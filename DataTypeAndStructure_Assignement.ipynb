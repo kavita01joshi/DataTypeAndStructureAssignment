{
  "nbformat": 4,
  "nbformat_minor": 0,
  "metadata": {
    "colab": {
      "provenance": []
    },
    "kernelspec": {
      "name": "python3",
      "display_name": "Python 3"
    },
    "language_info": {
      "name": "python"
    }
  },
  "cells": [
    {
      "cell_type": "markdown",
      "source": [
        "-------------********* Theoretical questions ********----------------\n",
        "\n",
        "1. What are data structures, and why are they important?\n",
        "* Data structure is a way of organizing and storing data, so that it can be accessed and manipulate effectively.\n",
        "* Importances of data structure -:\n",
        " * Efficient Data Management- it provided faster processing and retrival of infomation.\n",
        " * Optimized algorithms - many algorithms rely on well structure data into effecently.\n",
        " * Scalability - essential for handling large amount of data. link in database and search engin.\n",
        " * real world applications - used in AI, operating system, cryptography, web development and networking.\n",
        " * memory optimization - helps to reduse to memory usage by sotting data efficiently.\n",
        "\n",
        "2. Explain the difference between mutable and immutable data types with examples?\n",
        "* Changeing data type from one to another with out creating new object is know as mutable data type and more memory efficiency is present.\n",
        " * List - mutable\n",
        " * set - mutable\n",
        " * dictionary - mutable\n",
        "*** example-\n",
        "\n",
        "\n"
      ],
      "metadata": {
        "id": "54clKjA7dFxR"
      }
    },
    {
      "cell_type": "code",
      "source": [
        " # example of mutable data type\n",
        " l= [2, 4, 5, [\"test\", \"rest\", \"yes\"]]\n",
        " print(l)\n",
        " l.append(3.33)\n",
        " print(l)\n",
        " print(\"example of set\")\n",
        " s= {1, 5, 3, \"test\", 5, \"yes\"}\n",
        " print(s)\n",
        " s.add(3.33)\n",
        " print(s)\n",
        " print(\"example of dictionary\")\n",
        " d={\"name\" :\"Kavita joshi\", \"age\":42, \"address\": \"bangalore\"}\n",
        " print(d)\n",
        " d[\"name\"]= \"kavita\"\n",
        " print(d)\n"
      ],
      "metadata": {
        "colab": {
          "base_uri": "https://localhost:8080/"
        },
        "id": "La96K_y1jqmN",
        "outputId": "e0e250e1-2f78-4d5a-d618-a586a12a3f8a"
      },
      "execution_count": 10,
      "outputs": [
        {
          "output_type": "stream",
          "name": "stdout",
          "text": [
            "[2, 4, 5, ['test', 'rest', 'yes']]\n",
            "[2, 4, 5, ['test', 'rest', 'yes'], 3.33]\n",
            "example of set\n",
            "{'test', 1, 3, 'yes', 5}\n",
            "{'test', 1, 3, 'yes', 5, 3.33}\n",
            "example of dictionary\n",
            "{'name': 'Kavita joshi', 'age': 42, 'address': 'bangalore'}\n",
            "{'name': 'kavita', 'age': 42, 'address': 'bangalore'}\n"
          ]
        }
      ]
    },
    {
      "cell_type": "markdown",
      "source": [
        "* Immutable data type can not be changed after creation.\n",
        "* If modification is needed, a new object is created in the memory.\n",
        "\n",
        " * tuple - immutable\n",
        " * string- immutable\n",
        "\n",
        "example-"
      ],
      "metadata": {
        "id": "OFr2fFLFkdQ0"
      }
    },
    {
      "cell_type": "code",
      "source": [
        "t1=(2, 4, 5, [\"test\", \"rest\", \"yes\"])\n",
        "print(t1)\n",
        "t1.append(3.33) #-- tuples are immutablee\n",
        "print(t1)"
      ],
      "metadata": {
        "colab": {
          "base_uri": "https://localhost:8080/",
          "height": 211
        },
        "id": "afRg4qB_nD_d",
        "outputId": "1dfe2f64-1d11-41ed-f6af-3928ed778b6a"
      },
      "execution_count": 13,
      "outputs": [
        {
          "output_type": "stream",
          "name": "stdout",
          "text": [
            "(2, 4, 5, ['test', 'rest', 'yes'])\n"
          ]
        },
        {
          "output_type": "error",
          "ename": "AttributeError",
          "evalue": "'tuple' object has no attribute 'append'",
          "traceback": [
            "\u001b[0;31m---------------------------------------------------------------------------\u001b[0m",
            "\u001b[0;31mAttributeError\u001b[0m                            Traceback (most recent call last)",
            "\u001b[0;32m<ipython-input-13-85fe4d42186a>\u001b[0m in \u001b[0;36m<cell line: 0>\u001b[0;34m()\u001b[0m\n\u001b[1;32m      1\u001b[0m \u001b[0mt1\u001b[0m\u001b[0;34m=\u001b[0m\u001b[0;34m(\u001b[0m\u001b[0;36m2\u001b[0m\u001b[0;34m,\u001b[0m \u001b[0;36m4\u001b[0m\u001b[0;34m,\u001b[0m \u001b[0;36m5\u001b[0m\u001b[0;34m,\u001b[0m \u001b[0;34m[\u001b[0m\u001b[0;34m\"test\"\u001b[0m\u001b[0;34m,\u001b[0m \u001b[0;34m\"rest\"\u001b[0m\u001b[0;34m,\u001b[0m \u001b[0;34m\"yes\"\u001b[0m\u001b[0;34m]\u001b[0m\u001b[0;34m)\u001b[0m\u001b[0;34m\u001b[0m\u001b[0;34m\u001b[0m\u001b[0m\n\u001b[1;32m      2\u001b[0m \u001b[0mprint\u001b[0m\u001b[0;34m(\u001b[0m\u001b[0mt1\u001b[0m\u001b[0;34m)\u001b[0m\u001b[0;34m\u001b[0m\u001b[0;34m\u001b[0m\u001b[0m\n\u001b[0;32m----> 3\u001b[0;31m \u001b[0mt1\u001b[0m\u001b[0;34m.\u001b[0m\u001b[0mappend\u001b[0m\u001b[0;34m(\u001b[0m\u001b[0;36m3.33\u001b[0m\u001b[0;34m)\u001b[0m\u001b[0;34m\u001b[0m\u001b[0;34m\u001b[0m\u001b[0m\n\u001b[0m\u001b[1;32m      4\u001b[0m \u001b[0mprint\u001b[0m\u001b[0;34m(\u001b[0m\u001b[0mt1\u001b[0m\u001b[0;34m)\u001b[0m\u001b[0;34m\u001b[0m\u001b[0;34m\u001b[0m\u001b[0m\n",
            "\u001b[0;31mAttributeError\u001b[0m: 'tuple' object has no attribute 'append'"
          ]
        }
      ]
    },
    {
      "cell_type": "code",
      "source": [
        "print(\"example of string\")\n",
        "s = \"kavita\"\n",
        "print(s)\n",
        "s[0]= \"k\" # string are immutable\n",
        "print(s)"
      ],
      "metadata": {
        "colab": {
          "base_uri": "https://localhost:8080/",
          "height": 228
        },
        "id": "SBviorQ_nhPJ",
        "outputId": "4d6fccc0-02fc-45cd-c5e1-8cfa775a9dc0"
      },
      "execution_count": 14,
      "outputs": [
        {
          "output_type": "stream",
          "name": "stdout",
          "text": [
            "example of string\n",
            "kavita\n"
          ]
        },
        {
          "output_type": "error",
          "ename": "TypeError",
          "evalue": "'str' object does not support item assignment",
          "traceback": [
            "\u001b[0;31m---------------------------------------------------------------------------\u001b[0m",
            "\u001b[0;31mTypeError\u001b[0m                                 Traceback (most recent call last)",
            "\u001b[0;32m<ipython-input-14-96b093d5378e>\u001b[0m in \u001b[0;36m<cell line: 0>\u001b[0;34m()\u001b[0m\n\u001b[1;32m      2\u001b[0m \u001b[0ms\u001b[0m \u001b[0;34m=\u001b[0m \u001b[0;34m\"kavita\"\u001b[0m\u001b[0;34m\u001b[0m\u001b[0;34m\u001b[0m\u001b[0m\n\u001b[1;32m      3\u001b[0m \u001b[0mprint\u001b[0m\u001b[0;34m(\u001b[0m\u001b[0ms\u001b[0m\u001b[0;34m)\u001b[0m\u001b[0;34m\u001b[0m\u001b[0;34m\u001b[0m\u001b[0m\n\u001b[0;32m----> 4\u001b[0;31m \u001b[0ms\u001b[0m\u001b[0;34m[\u001b[0m\u001b[0;36m0\u001b[0m\u001b[0;34m]\u001b[0m\u001b[0;34m=\u001b[0m \u001b[0;34m\"k\"\u001b[0m\u001b[0;34m\u001b[0m\u001b[0;34m\u001b[0m\u001b[0m\n\u001b[0m\u001b[1;32m      5\u001b[0m \u001b[0mprint\u001b[0m\u001b[0;34m(\u001b[0m\u001b[0ms\u001b[0m\u001b[0;34m)\u001b[0m\u001b[0;34m\u001b[0m\u001b[0;34m\u001b[0m\u001b[0m\n",
            "\u001b[0;31mTypeError\u001b[0m: 'str' object does not support item assignment"
          ]
        }
      ]
    },
    {
      "cell_type": "code",
      "source": [],
      "metadata": {
        "id": "mSaOm_FAyIRh"
      },
      "execution_count": null,
      "outputs": []
    },
    {
      "cell_type": "markdown",
      "source": [
        "3. What are the main differences between lists and tuples in Python?\n",
        "* list and tuple both store heterogeneous data, list syntax is [], we can add remove or modify(insert, remove, pop, extend, append) the data and it's mutable datatype where as tuple syntax is () and have immutable datatype cann't modify the data.\n",
        "\n",
        "4. Describe how dictionaries store data?\n",
        "* dictionaries syntax is {} and store data in key-value pair, making them an efficient way to retrieve values based on their associated keys.\n",
        "   * Hashing for fast lookup-  Inseated of searching al item one by one, the dictionary quickly find the value using a **hashing technique.**\n",
        "   * unordered but accessible- item doesn't have a fixed position, but each key directly points to its value.\n",
        "   * Handles conflicts- if two keys accidentally get the same hash, python manage internally. ---> will check\n",
        "\n",
        "5. Why might you use a set instead of a list in Python?\n",
        "* Both lists and sets can store heterogeneous data and are mutable. A set allows only unique elements and does not have a fixed order, whereas a list maintains order and allows duplicate values.\n",
        "\n",
        "6. What is a string in Python, and how is it different from a list?\n",
        "* string is a sequence of character which represent inside the double quote (\"\"), single quote ('') or triple quote(''' ''' or \"\"\" \"\"\") and manipulate textual data.string is immutable and only character allowed where as list is mutable and allowed heterogeneous data.\n",
        "\n",
        "7. How do tuples ensure data integrity in Python?\n",
        "* Tuples ensure data integrity in Python because  they are immutable , meaning their values cannot be modified after creation.\n",
        "  * No accidental changes- If a programmer store important data in a tuple, no one can accidentally modifyed it.\n",
        "  * Safer in team work- If multiple programmer are using ame data, a tuple ensure it nobody messes it up.\n",
        "  * Works well as dictionary key- Since tuples stay the same, they can be used to lable data reliably.\n",
        "\n",
        "8. What is a hash table, and how does it relate to dictionaries in Python?\n",
        "* A hash table is like a super fast way to store and find things using a special trick called hashing. It works like smart file system instead of checking every item one by one, it jumps straight to where the item is stored.\n",
        "  * it relate to dictionaries in Python---\n",
        "   when we store data in key-value pairs in a dictionary, python hashes the key to store and retrieve values quickly.\n",
        "\n",
        "9. Can lists contain different data types in Python?\n",
        "* Yes.\n",
        "\n",
        "10. Explain why strings are immutable in Python?\n",
        "* strings are immutable because of memory efficiency- (if many parts of a program use the same string, pythobn stores it onlt once instead of making multiple copies).\n",
        "* security & safety - Since strings never change, they prevent accidental modifications, making programs more reliable.\n",
        "* fast performance- Python optimizes how it handles strings, so immutability makes string operations faster.\n",
        "* used as dictionary keys- String stay the same, so they work as stable keys in dictionaries, unlike mutable object.\n",
        "\n",
        "11. What advantages do dictionaries offer over lists for certain tasks?\n",
        "* dictionaries are better that list for eratomn tasks because they use keys to find data quickly, while list require searching through items one by one.\n",
        " Choose Dictionaries Over List----\n",
        "  * Fast lookup-\n",
        "     * in a dictionary, you can instantly find a value using its key.\n",
        "     * in a list, you may need to check every item one by one.\n",
        "  * organized data-\n",
        "    * dictionaries store data in key-value pairs.\n",
        "    * lists only store values without labels, making it harder to find specific items.\n",
        "  * efficient memory usage-\n",
        "    * dictionaries can handle large datasets efficiently compared to lists.\n",
        "    * list become slower as they grow because searching takes more time.\n",
        "  * Great for real-worls mapping-\n",
        "    * if you need to connect related items dictionaries are ideal.\n",
        "    * Lists work better for simple sequences like name in order.\n",
        "\n",
        "12. Describe a scenario where using a tuple would be preferable over a list?\n",
        "* A tuple is better than a list when you need fixed, unchangeable data that should saty the same throughout your program.\n",
        "* scenario: storing Bithdates--\n",
        "Imagine you're building a system to store people's birthdates. Since a person's birthdate never changes, using a tuple ensures no accidental modifications.\n",
        "Using a Tuple(Safe and fixed)\n",
        "# Year, Month, Day\n",
        "# birthdate = (2000, 5, 13)\n",
        "Once stored , no one can accidentally change the birthdate.\n",
        "\n",
        "Using a List(Risk)\n",
        "#birthdate = [2000, 5, 13]\n",
        "#birthdate[0] = 1999\n",
        "Now it's incorrect.\n",
        "If someone accidentally modifies the list, the birthdate changes, which should never happen.\n",
        "\n",
        "we use Tuples here for below reason-\n",
        "* Prevents accidental modifications\n",
        "* Uses less memory\n",
        "* Faster performance\n",
        "* Can be used as dictionary keys\n",
        "\n",
        "13. How do sets handle duplicate values in Python?\n",
        "* Set automatically remove duplicate values, meaning each item in a set is unique.\n",
        "* when we add items into a set, pyhton checks if the items already exists.\n",
        "* if it does, python ignores it and doesn't add it again.\n",
        "* this helps keep the set clean and efficient.\n",
        "\n",
        "Set is useful due to below reason-\n",
        "* Avoids duplicate data\n",
        "* Fast lookup for unique values\n",
        "* Perfect for storing things like IDs, usernames, or unique items\n",
        "\n",
        "14. How does the “in” keyword work differently for lists and dictionaries?\n",
        "* the in keywords is used to check if an item exist, but it works slightly differently for lists and dictionaries.\n",
        "  * In list - it searchs through the list one by one to check if the item exist. Science lists don't have keys, python checks every item until it find a match.\n",
        "  * In dictionaries - it only checks keys, Not values. To check values, you must use .values()\n",
        "\n",
        "Key difference-\n",
        "* Lists: Searches through all items.\n",
        "* Dictionaries: Checks only keys unless .values() is used.\n",
        "\n",
        "15. Can you modify the elements of a tuple? Explain why or why not?\n",
        "* No, we cann't modify(add and remove) the element of the tuple as they are immutable. if we do it will throw error - AttributeError: 'tuple' object has no attribute 'append'.\n",
        "\n",
        "16. What is a nested dictionary, and give an example of its use case?\n",
        "* A nested dictionary is a dictionary inside another dictionary. It allows you to organize complex data in a structured way, similar to folders inside folders on a computer.\n",
        "* Use case- storing student data\n",
        "Imagine you need to store details about multiple students, like their name, grades, and age. A nested dictionary makes it easy!\n",
        "\n",
        "Use of nested Dictionaries-\n",
        "* Organized structure\n",
        "* Easy to access specific details\n",
        "* Great for storing hierarchical data\n",
        "\n",
        "17. Describe the time complexity of accessing elements in a dictionary?\n",
        "* Accessing elements in a dictionary is very efficient because dictionaries use a hash table.\n",
        "* Time complexity-\n",
        "  * Best and Average case- when a key is searched, python hashes the keey and directly jumps to the correct location  in memory. This means accessing elements is almost instant, regardless of the dictionary size.\n",
        "  * Worst case (rare) - if too many keys produce the same hash, python may need to serach through multiple stored values. however, python uses techmiques like chaining or open addressing to minimize collisions, so happens rarely.\n",
        "\n",
        "18. In what situations are lists preferred over dictionaries?\n",
        "* lists are preferred over dictionaries in situations where order matters or when data is simple and sequential and memory usage is important(use less memory).\n",
        "\n",
        "19. Why are dictionaries considered unordered, and how does that affect data retrieval?\n",
        "* Dictionaries are unordered because they don't store items in a fixed sequence like lists do. Instead, they use a hashing system to place key-value pairs in memory efficiently.\n",
        "\n",
        "affect data retrieval---\n",
        "* Fast Lookups\n",
        "* No Fixed Order\n",
        "* Looping Order May Vary - when looping, the order might change (but 3.7+ preserves insertion order).\n",
        "\n",
        "20. Explain the difference between a list and a dictionary in terms of data retrieval?\n",
        "* The main difference between a list and a dictionary in terms of data retrieval is how we are getting items or finding items.\n",
        "* lists (search by position)-\n",
        " * access items by index.\n",
        " * if you don't know the index, you must search through all the items onee by one .\n",
        " * slower if the list is long\n",
        "* dictionaies (search by key)-\n",
        " * you don't search manually ; you use a key to find values instantly.\n",
        " * much faster than lists for retrieving specific data.\n",
        " * works like a phone book.\n",
        "\n",
        "\n"
      ],
      "metadata": {
        "id": "C4bVyLBqn76N"
      }
    },
    {
      "cell_type": "code",
      "source": [],
      "metadata": {
        "id": "USKf1UUM_37W"
      },
      "execution_count": null,
      "outputs": []
    },
    {
      "cell_type": "markdown",
      "source": [],
      "metadata": {
        "id": "iLxUGZYozmuq"
      }
    },
    {
      "cell_type": "markdown",
      "source": [
        "-------------------- ******Practical ********* -------------------"
      ],
      "metadata": {
        "id": "qXxCQNywzknw"
      }
    },
    {
      "cell_type": "code",
      "source": [
        "# 1. Write a code to create a string with your name and print it\n",
        "name= \"kavita joshi\"\n",
        "print(name)"
      ],
      "metadata": {
        "colab": {
          "base_uri": "https://localhost:8080/"
        },
        "id": "8aRJwZlAwozb",
        "outputId": "ff2a3fc7-cecc-4aed-c6b1-415a0a3b7498"
      },
      "execution_count": 16,
      "outputs": [
        {
          "output_type": "stream",
          "name": "stdout",
          "text": [
            "kavita joshi\n"
          ]
        }
      ]
    },
    {
      "cell_type": "code",
      "source": [
        "# 2.  Write a code to find the length of the string \"Hello World\"?\n",
        "s= \"Hello World\"\n",
        "print(len(s))"
      ],
      "metadata": {
        "colab": {
          "base_uri": "https://localhost:8080/"
        },
        "id": "2OdOV8dywsNZ",
        "outputId": "08cc8bf5-2bfe-4a8b-b90c-48e48311328c"
      },
      "execution_count": 17,
      "outputs": [
        {
          "output_type": "stream",
          "name": "stdout",
          "text": [
            "11\n"
          ]
        }
      ]
    },
    {
      "cell_type": "code",
      "source": [
        "# 3. Write a code to slice the first 3 characters from the string \"Python Programming\"?\n",
        "s= \"Python Programming\"\n",
        "print(s[0:3])"
      ],
      "metadata": {
        "colab": {
          "base_uri": "https://localhost:8080/"
        },
        "id": "Qed2s8pVxNJR",
        "outputId": "5139084a-bf34-4f90-c31b-016e6b113931"
      },
      "execution_count": 18,
      "outputs": [
        {
          "output_type": "stream",
          "name": "stdout",
          "text": [
            "Pyt\n"
          ]
        }
      ]
    },
    {
      "cell_type": "code",
      "source": [
        "# 4. Write a code to convert the string \"hello\" to uppercase?\n",
        "s= \"hello\"\n",
        "print(s.upper())"
      ],
      "metadata": {
        "colab": {
          "base_uri": "https://localhost:8080/"
        },
        "id": "kqxVqLm-w0v6",
        "outputId": "52c8a014-348a-4f91-eb49-5778c561a4e9"
      },
      "execution_count": 19,
      "outputs": [
        {
          "output_type": "stream",
          "name": "stdout",
          "text": [
            "HELLO\n"
          ]
        }
      ]
    },
    {
      "cell_type": "code",
      "source": [
        "# 5. Write a code to replace the word \"apple\" with \"orange\" in the string \"I like apple\"?\n",
        "s= \"I like apple\"\n",
        "print(s.replace(\"apple\", \"orange\"))"
      ],
      "metadata": {
        "colab": {
          "base_uri": "https://localhost:8080/"
        },
        "id": "GoEATlidxNFs",
        "outputId": "cbf50ca6-e91c-4928-e73c-8a178d09cbeb"
      },
      "execution_count": 20,
      "outputs": [
        {
          "output_type": "stream",
          "name": "stdout",
          "text": [
            "I like orange\n"
          ]
        }
      ]
    },
    {
      "cell_type": "code",
      "source": [
        "# 6. Write a code to create a list with numbers 1 to 5 and print it?\n",
        "l=[1,2,3,4,5]\n",
        "print(l)"
      ],
      "metadata": {
        "colab": {
          "base_uri": "https://localhost:8080/"
        },
        "id": "YP_g8Q0LxNDN",
        "outputId": "0966a1e7-8166-4989-bdf5-8ac980b9a3b5"
      },
      "execution_count": 21,
      "outputs": [
        {
          "output_type": "stream",
          "name": "stdout",
          "text": [
            "[1, 2, 3, 4, 5]\n"
          ]
        }
      ]
    },
    {
      "cell_type": "code",
      "source": [
        "# 7. Write a code to append the number 10 to the list [1, 2, 3, 4]?\n",
        "l=[1, 2, 3, 4]\n",
        "l.append(10)\n",
        "print(l)"
      ],
      "metadata": {
        "colab": {
          "base_uri": "https://localhost:8080/"
        },
        "id": "O7z-dQ2FxNAy",
        "outputId": "a13ae79d-f5fd-4a8d-d944-ca46c0f8b92a"
      },
      "execution_count": 22,
      "outputs": [
        {
          "output_type": "stream",
          "name": "stdout",
          "text": [
            "[1, 2, 3, 4, 10]\n"
          ]
        }
      ]
    },
    {
      "cell_type": "code",
      "source": [
        "# 8. Write a code to remove the number 3 from the list [1, 2, 3, 4, 5]?\n",
        "l= [1, 2, 3, 4, 5]\n",
        "l.remove(3)\n",
        "print(l)"
      ],
      "metadata": {
        "colab": {
          "base_uri": "https://localhost:8080/"
        },
        "id": "vvCcQgR_xM93",
        "outputId": "d9f4a8fa-9ab3-42e7-9e0c-b341106f13fa"
      },
      "execution_count": 24,
      "outputs": [
        {
          "output_type": "stream",
          "name": "stdout",
          "text": [
            "[1, 2, 4, 5]\n"
          ]
        }
      ]
    },
    {
      "cell_type": "code",
      "source": [
        "# 9. Write a code to access the second element in the list ['a', 'b', 'c', 'd']?\n",
        "l=  ['a', 'b', 'c', 'd']\n",
        "print(l[1])\n"
      ],
      "metadata": {
        "colab": {
          "base_uri": "https://localhost:8080/"
        },
        "id": "7qTSwO6CxMyn",
        "outputId": "5011e698-dc9d-4d9c-af7c-cad56e04a227"
      },
      "execution_count": 29,
      "outputs": [
        {
          "output_type": "stream",
          "name": "stdout",
          "text": [
            "b\n"
          ]
        }
      ]
    },
    {
      "cell_type": "code",
      "source": [
        "# 10. Write a code to reverse the list [10, 20, 30, 40, 50].\n",
        "l= [10, 20, 30, 40, 50]\n",
        "l[::-1]"
      ],
      "metadata": {
        "colab": {
          "base_uri": "https://localhost:8080/"
        },
        "id": "6Ka3gDCbnMeV",
        "outputId": "0bb60952-d04a-46b3-a7fc-a1b5a324ff3c"
      },
      "execution_count": 15,
      "outputs": [
        {
          "output_type": "execute_result",
          "data": {
            "text/plain": [
              "[50, 40, 30, 20, 10]"
            ]
          },
          "metadata": {},
          "execution_count": 15
        }
      ]
    },
    {
      "cell_type": "code",
      "source": [
        "# 11. Write a code to create a tuple with the elements 100, 200, 300 and print it?\n",
        "t= (100, 200, 300)\n",
        "print(t)"
      ],
      "metadata": {
        "colab": {
          "base_uri": "https://localhost:8080/"
        },
        "id": "_q2sHCtFxMlq",
        "outputId": "2b85cdd0-4e1e-4803-ba98-06dcffc62ba4"
      },
      "execution_count": 30,
      "outputs": [
        {
          "output_type": "stream",
          "name": "stdout",
          "text": [
            "(100, 200, 300)\n"
          ]
        }
      ]
    },
    {
      "cell_type": "code",
      "source": [
        "# 12. Write a code to access the second-to-last element of the tuple ('red', 'green', 'blue', 'yellow')?\n",
        "t= ('red', 'green', 'blue', 'yellow')\n",
        "print(t[1:])"
      ],
      "metadata": {
        "colab": {
          "base_uri": "https://localhost:8080/"
        },
        "id": "jgViCTZzxMQ6",
        "outputId": "9213ab42-8f6f-4872-fe98-6295d682746a"
      },
      "execution_count": 31,
      "outputs": [
        {
          "output_type": "stream",
          "name": "stdout",
          "text": [
            "('green', 'blue', 'yellow')\n"
          ]
        }
      ]
    },
    {
      "cell_type": "code",
      "source": [
        "# 13.  Write a code to find the minimum number in the tuple (10, 20, 5, 15)?\n",
        "t =(10, 20, 5, 15)\n",
        "print(min(t))"
      ],
      "metadata": {
        "colab": {
          "base_uri": "https://localhost:8080/"
        },
        "id": "p_yimjRK0ATH",
        "outputId": "cd9a9720-d43c-4eee-95f3-ee0c18b5d204"
      },
      "execution_count": 36,
      "outputs": [
        {
          "output_type": "stream",
          "name": "stdout",
          "text": [
            "5\n"
          ]
        }
      ]
    },
    {
      "cell_type": "code",
      "source": [
        "from ast import Index\n",
        "# 14.  Write a code to find the index of the element \"cat\" in the tuple ('dog', 'cat', 'rabbit').?\n",
        "t= ('dog', 'cat', 'rabbit')\n",
        "print(t.index('cat'))"
      ],
      "metadata": {
        "colab": {
          "base_uri": "https://localhost:8080/"
        },
        "id": "vRDffgYF0-qs",
        "outputId": "22599645-cd73-4178-f791-8c1129d9b846"
      },
      "execution_count": 41,
      "outputs": [
        {
          "output_type": "stream",
          "name": "stdout",
          "text": [
            "1\n"
          ]
        }
      ]
    },
    {
      "cell_type": "code",
      "source": [
        "# 15. Write a code to create a tuple containing three different fruits and check if \"kiwi\" is in it?\n",
        "fruit=('apple', 'banana', 'cherry')\n",
        "print(\"kiwi\" in fruit)"
      ],
      "metadata": {
        "colab": {
          "base_uri": "https://localhost:8080/"
        },
        "id": "dgdkHfab0-nJ",
        "outputId": "bea9c310-17c3-43f0-f696-0571316d3490"
      },
      "execution_count": 44,
      "outputs": [
        {
          "output_type": "stream",
          "name": "stdout",
          "text": [
            "False\n"
          ]
        }
      ]
    },
    {
      "cell_type": "code",
      "source": [
        "# 16. Write a code to create a set with the elements 'a', 'b', 'c' and print it?\n",
        "s = {'a', 'b', 'c'}\n",
        "print(s) #--> as set are unordered, the element may appear in different order."
      ],
      "metadata": {
        "colab": {
          "base_uri": "https://localhost:8080/"
        },
        "id": "B-bh_Yao0-kv",
        "outputId": "4ce7a175-20e2-46bb-833b-7b79073eca0e"
      },
      "execution_count": 49,
      "outputs": [
        {
          "output_type": "stream",
          "name": "stdout",
          "text": [
            "{'b', 'c', 'a'}\n"
          ]
        }
      ]
    },
    {
      "cell_type": "code",
      "source": [
        "# 17. Write a code to clear all elements from the set {1, 2, 3, 4, 5}?\n",
        "s=  {1, 2, 3, 4, 5}\n",
        "print(s.clear)"
      ],
      "metadata": {
        "colab": {
          "base_uri": "https://localhost:8080/"
        },
        "id": "ymEMFGBL0-Tv",
        "outputId": "dc0080f6-c3ac-44e8-d68c-6198cb7457be"
      },
      "execution_count": 50,
      "outputs": [
        {
          "output_type": "stream",
          "name": "stdout",
          "text": [
            "<built-in method clear of set object at 0x7fc4555250e0>\n"
          ]
        }
      ]
    },
    {
      "cell_type": "code",
      "source": [
        "# 18. Write a code to remove the element 4 from the set {1, 2, 3, 4}?\n",
        "s=  {1, 2, 3, 4}\n",
        "print(s.remove(4))\n",
        "print(s)"
      ],
      "metadata": {
        "colab": {
          "base_uri": "https://localhost:8080/"
        },
        "id": "JEcgVIB52rPc",
        "outputId": "c5d9b926-c87f-471c-fd7d-6d39c16c3a48"
      },
      "execution_count": 52,
      "outputs": [
        {
          "output_type": "stream",
          "name": "stdout",
          "text": [
            "None\n",
            "{1, 2, 3}\n"
          ]
        }
      ]
    },
    {
      "cell_type": "code",
      "source": [
        "# 19. Write a code to find the union of two sets {1, 2, 3} and {3, 4, 5}?\n",
        "s1= {1, 2, 3}\n",
        "s2= {3, 4, 5}\n",
        "print(s1.union(s2))"
      ],
      "metadata": {
        "colab": {
          "base_uri": "https://localhost:8080/"
        },
        "id": "92B51urR3Gx8",
        "outputId": "a5fbf4c0-e950-40db-f1ee-ed94c203c838"
      },
      "execution_count": 53,
      "outputs": [
        {
          "output_type": "stream",
          "name": "stdout",
          "text": [
            "{1, 2, 3, 4, 5}\n"
          ]
        }
      ]
    },
    {
      "cell_type": "code",
      "source": [
        "# 20. Write a code to find the intersection of two sets {1, 2, 3} and {2, 3, 4}?\n",
        "s1 = {1, 2, 3}\n",
        "s2 = {2, 3, 4}\n",
        "print(s1.intersection(s2))"
      ],
      "metadata": {
        "colab": {
          "base_uri": "https://localhost:8080/"
        },
        "id": "NIsbcQMU3Gu0",
        "outputId": "8b0ade95-6ef2-416c-8756-556e618e2825"
      },
      "execution_count": 54,
      "outputs": [
        {
          "output_type": "stream",
          "name": "stdout",
          "text": [
            "{2, 3}\n"
          ]
        }
      ]
    },
    {
      "cell_type": "code",
      "source": [
        "# 21. Write a code to create a dictionary with the keys \"name\", \"age\", and \"city\", and print it?\n",
        "d={\"name\" :\"Kavita joshi\", \"age\":42, \"city\": \"bangalore\"}\n",
        "print(d)"
      ],
      "metadata": {
        "colab": {
          "base_uri": "https://localhost:8080/"
        },
        "id": "eVZwHW7w3GsP",
        "outputId": "5650af0b-d23a-4233-bb36-cdd2eff4fada"
      },
      "execution_count": 55,
      "outputs": [
        {
          "output_type": "stream",
          "name": "stdout",
          "text": [
            "{'name': 'Kavita joshi', 'age': 42, 'city': 'bangalore'}\n"
          ]
        }
      ]
    },
    {
      "cell_type": "code",
      "source": [
        "# 22. Write a code to add a new key-value pair \"country\": \"USA\" to the dictionary {'name': 'John', 'age': 25}?\n",
        "d={'name': 'John', 'age': 25}\n",
        "print(d)\n",
        "d['country']='USA'\n",
        "print(d)"
      ],
      "metadata": {
        "colab": {
          "base_uri": "https://localhost:8080/"
        },
        "id": "ovx3vaSE3Gpa",
        "outputId": "d0b4bcd5-8204-4e83-f858-9b3ed4ccc6b7"
      },
      "execution_count": 61,
      "outputs": [
        {
          "output_type": "stream",
          "name": "stdout",
          "text": [
            "{'name': 'John', 'age': 25}\n",
            "{'name': 'John', 'age': 25, 'country': 'USA'}\n"
          ]
        }
      ]
    },
    {
      "cell_type": "code",
      "source": [
        "# 23. Write a code to access the value associated with the key \"name\" in the dictionary {'name': 'Alice', 'age': 30}?\n",
        "d= {'name': 'Alice', 'age': 30}\n",
        "print(d['name'])"
      ],
      "metadata": {
        "colab": {
          "base_uri": "https://localhost:8080/"
        },
        "id": "AuXXHN5y3Gk0",
        "outputId": "14037d68-bceb-4a84-b32d-91586864dc81"
      },
      "execution_count": 62,
      "outputs": [
        {
          "output_type": "stream",
          "name": "stdout",
          "text": [
            "Alice\n"
          ]
        }
      ]
    },
    {
      "cell_type": "code",
      "source": [
        "# 24. Write a code to remove the key \"age\" from the dictionary {'name': 'Bob', 'age': 22, 'city': 'New York'}?\n",
        "d=  {'name': 'Bob', 'age': 22, 'city': 'New York'}\n",
        "print(d)\n",
        "d.pop('age')\n",
        "print(d)"
      ],
      "metadata": {
        "colab": {
          "base_uri": "https://localhost:8080/"
        },
        "id": "XX4ZWDWB3GXQ",
        "outputId": "f9fb2fbe-bf8a-4814-8cb9-6135cb5d8cba"
      },
      "execution_count": 64,
      "outputs": [
        {
          "output_type": "stream",
          "name": "stdout",
          "text": [
            "{'name': 'Bob', 'age': 22, 'city': 'New York'}\n",
            "{'name': 'Bob', 'city': 'New York'}\n"
          ]
        }
      ]
    },
    {
      "cell_type": "code",
      "source": [
        "# 25. Write a code to check if the key \"city\" exists in the dictionary {'name': 'Alice', 'city': 'Paris'}?\n",
        "d= {'name': 'Alice', 'city': 'Paris'}\n",
        "print('city' in d)"
      ],
      "metadata": {
        "colab": {
          "base_uri": "https://localhost:8080/"
        },
        "id": "pdPu9jfs6Plq",
        "outputId": "08280e4e-1be2-43f4-94aa-68991039fd5a"
      },
      "execution_count": 66,
      "outputs": [
        {
          "output_type": "stream",
          "name": "stdout",
          "text": [
            "True\n"
          ]
        }
      ]
    },
    {
      "cell_type": "code",
      "source": [
        "# 26. Write a code to create a list, a tuple, and a dictionary, and print them all?\n",
        "# print all together in the list-\n",
        "l= [1, \"test\", 3.33, (1, 2.8, \"test\", 4), {'name': 'kavita', 'city':'bangalore'}]\n",
        "print(l)\n",
        "print()\n",
        "# Print seperate-\n",
        "lst =[1, 3.33, \"Nice\"]\n",
        "print( lst)\n",
        "print()\n",
        "tpl= (1, 3.33, \"Nice\")\n",
        "print(tpl)\n",
        "print()\n",
        "dic= {'name': 'kavita', 'city':'bangalore'}\n",
        "print( dic)"
      ],
      "metadata": {
        "colab": {
          "base_uri": "https://localhost:8080/"
        },
        "id": "QX5bQCZF6PSV",
        "outputId": "b4274b53-9091-4b17-e2d0-80a62865633d"
      },
      "execution_count": 73,
      "outputs": [
        {
          "output_type": "stream",
          "name": "stdout",
          "text": [
            "[1, 'test', 3.33, (1, 2.8, 'test', 4), {'name': 'kavita', 'city': 'bangalore'}]\n",
            "\n",
            "[1, 3.33, 'Nice']\n",
            "\n",
            "(1, 3.33, 'Nice')\n",
            "\n",
            "{'name': 'kavita', 'city': 'bangalore'}\n"
          ]
        }
      ]
    },
    {
      "cell_type": "code",
      "source": [
        "# 27.  Write a code to create a list of 5 random numbers between 1 and 100, sort it in ascending order, and print the\n",
        "#result.(replaced)?\n",
        "l= [2, 66, 95,-27, 77]\n",
        "print(l)\n",
        "l.sort()\n",
        "print(l)"
      ],
      "metadata": {
        "colab": {
          "base_uri": "https://localhost:8080/"
        },
        "id": "mzIo6Jp16PCp",
        "outputId": "5abdd2c6-993d-41ca-8209-33a02138c85a"
      },
      "execution_count": 5,
      "outputs": [
        {
          "output_type": "stream",
          "name": "stdout",
          "text": [
            "[2, 66, 95, -27, 77]\n",
            "[-27, 2, 66, 77, 95]\n"
          ]
        }
      ]
    },
    {
      "cell_type": "code",
      "source": [
        "# 28. Write a code to create a list with strings and print the element at the third index?\n",
        "l =[\"tset\", \"kavita\", \"joshi\", \"new\", \"data\"]\n",
        "print(l)\n",
        "l[3]\n"
      ],
      "metadata": {
        "colab": {
          "base_uri": "https://localhost:8080/",
          "height": 53
        },
        "id": "kH-cCP6s7Hr_",
        "outputId": "c6def635-2721-439e-b185-a86a234eaffb"
      },
      "execution_count": 6,
      "outputs": [
        {
          "output_type": "stream",
          "name": "stdout",
          "text": [
            "['tset', 'kavita', 'joshi', 'new', 'data']\n"
          ]
        },
        {
          "output_type": "execute_result",
          "data": {
            "text/plain": [
              "'new'"
            ],
            "application/vnd.google.colaboratory.intrinsic+json": {
              "type": "string"
            }
          },
          "metadata": {},
          "execution_count": 6
        }
      ]
    },
    {
      "cell_type": "code",
      "source": [
        "#29. Write a code to combine two dictionaries into one and print the result?\n",
        "d1= {'name': 'Alice', 'age': 30, 'city': 'London'}\n",
        "d2= {'name': 'Bob', 'age': 30, 'city': 'Paris'}\n",
        "com_d = d1.copy()\n",
        "com_d.update(d2)\n",
        "print(com_d)\n",
        "print(d1, d2)"
      ],
      "metadata": {
        "colab": {
          "base_uri": "https://localhost:8080/"
        },
        "id": "UtXjrHjBwbM4",
        "outputId": "556cb77a-6e32-48fd-e99a-3b1f710261a4"
      },
      "execution_count": 14,
      "outputs": [
        {
          "output_type": "stream",
          "name": "stdout",
          "text": [
            "{'name': 'Bob', 'age': 30, 'city': 'Paris'}\n",
            "{'name': 'Alice', 'age': 30, 'city': 'London'} {'name': 'Bob', 'age': 30, 'city': 'Paris'}\n"
          ]
        }
      ]
    },
    {
      "cell_type": "code",
      "source": [
        "# 30. Write a code to convert a list of strings into a set?\n",
        "def convert_string_list_to_set(stringList):\n",
        "    \"\"\"Converts a list of strings to a set.\n",
        "\n",
        "    Args:\n",
        "    string_list: A list of strings.\n",
        "\n",
        "    Returns:\n",
        "    A set containing the unique strings from the input list.\n",
        "    \"\"\"\n",
        "    return set(stringList)\n",
        "\n",
        "lst = [\"joke\", \"test\", \"best\" , \"mad\", \"test\", \"best\"]\n",
        "s= convert_string_list_to_set(lst)\n",
        "print(s)\n",
        "\n"
      ],
      "metadata": {
        "colab": {
          "base_uri": "https://localhost:8080/"
        },
        "id": "7USsZELowa9z",
        "outputId": "e806a037-1452-44a3-d788-ee39378ec8ba"
      },
      "execution_count": 17,
      "outputs": [
        {
          "output_type": "stream",
          "name": "stdout",
          "text": [
            "{'joke', 'mad', 'best', 'test'}\n"
          ]
        }
      ]
    }
  ]
}